{
 "cells": [
  {
   "cell_type": "code",
   "execution_count": 1,
   "metadata": {},
   "outputs": [],
   "source": [
    "from tweepy.streaming import StreamListener\n",
    "from tweepy import OAuthHandler\n",
    "from tweepy import Stream\n",
    "import pandas as pd\n",
    "import json\n",
    "import tweepy\n",
    " \n",
    "import credentials"
   ]
  },
  {
   "cell_type": "markdown",
   "metadata": {},
   "source": [
    "# Script para extraer Tweets en tiempo real \n",
    "\n",
    "En este script vamos a tener la capacidad de leer tweets en tiempo real que se esten produciendo en los temas que deseamos analizar"
   ]
  },
  {
   "cell_type": "code",
   "execution_count": null,
   "metadata": {},
   "outputs": [],
   "source": [
    "# # # # TWITTER STREAMER # # # #\n",
    "class TwitterStreamer():\n",
    "    \"\"\"\n",
    "    Class for streaming and processing live tweets.\n",
    "    \"\"\"\n",
    "    def __init__(self):\n",
    "        pass\n",
    "\n",
    "    def stream_tweets(self, fetched_tweets_filename, hash_tag_list):\n",
    "        # This handles Twitter authetification and the connection to Twitter Streaming API\n",
    "        listener = StdOutListener(fetched_tweets_filename)\n",
    "        auth = OAuthHandler(credentials.consumer_key, credentials.consumer_secret)\n",
    "        auth.set_access_token(credentials.access_token, credentials.access_token_secret)\n",
    "        stream = Stream(auth, listener)\n",
    "\n",
    "        # This line filter Twitter Streams to capture data by the keywords: \n",
    "        stream.filter(track=hash_tag_list)\n",
    "\n",
    "\n",
    "# # # # TWITTER STREAM LISTENER # # # #\n",
    "class StdOutListener(StreamListener):\n",
    "    \"\"\"\n",
    "    This is a basic listener that just prints received tweets to stdout.\n",
    "    \"\"\"\n",
    "    def __init__(self, fetched_tweets_filename):\n",
    "        self.fetched_tweets_filename = fetched_tweets_filename\n",
    "\n",
    "    def on_data(self, data):\n",
    "        try:\n",
    "            print(data)\n",
    "            with open(self.fetched_tweets_filename, 'a') as tf:\n",
    "                tf.write(data)\n",
    "            return True\n",
    "        except BaseException as e:\n",
    "            print(\"Error on_data %s\" % str(e))\n",
    "        return True\n",
    "          \n",
    "\n",
    "    def on_error(self, status):\n",
    "        print(status)\n",
    "\n",
    " \n",
    "if __name__ == '__main__':\n",
    " \n",
    "    # Authenticate using config.py and connect to Twitter Streaming API.\n",
    "    hash_tag_list = [\"coronavirus\"]\n",
    "    fetched_tweets_filename = \"tweets_hash.json\"\n",
    "\n",
    "    twitter_streamer = TwitterStreamer()\n",
    "    twitter_streamer.stream_tweets(fetched_tweets_filename, hash_tag_list)"
   ]
  },
  {
   "cell_type": "markdown",
   "metadata": {},
   "source": [
    "# Lectura de los tweets "
   ]
  },
  {
   "cell_type": "code",
   "execution_count": 32,
   "metadata": {},
   "outputs": [],
   "source": [
    "tweets = []\n",
    "for line in open('tweets_hash.json', 'r'):\n",
    "    tweets.append(json.loads(line))"
   ]
  },
  {
   "cell_type": "code",
   "execution_count": 3,
   "metadata": {},
   "outputs": [
    {
     "data": {
      "text/plain": [
       "15030"
      ]
     },
     "execution_count": 3,
     "metadata": {},
     "output_type": "execute_result"
    }
   ],
   "source": [
    "len(tweets)  # Tweets extraidos "
   ]
  },
  {
   "cell_type": "code",
   "execution_count": null,
   "metadata": {},
   "outputs": [],
   "source": [
    "tweets[1].keys()"
   ]
  },
  {
   "cell_type": "code",
   "execution_count": null,
   "metadata": {},
   "outputs": [],
   "source": [
    "tweets[15]['favourites_count']"
   ]
  },
  {
   "cell_type": "code",
   "execution_count": null,
   "metadata": {},
   "outputs": [],
   "source": [
    "tweets[2601]['retweeted_status']['favorite_count']  # Likes"
   ]
  },
  {
   "cell_type": "code",
   "execution_count": null,
   "metadata": {},
   "outputs": [],
   "source": [
    "tweets[2602]['user']['followers_count']  # retwett "
   ]
  },
  {
   "cell_type": "code",
   "execution_count": null,
   "metadata": {},
   "outputs": [],
   "source": [
    "tweets[2601]  # retwett "
   ]
  },
  {
   "cell_type": "code",
   "execution_count": null,
   "metadata": {},
   "outputs": [],
   "source": []
  },
  {
   "cell_type": "code",
   "execution_count": null,
   "metadata": {},
   "outputs": [],
   "source": [
    "tweets[2678]"
   ]
  },
  {
   "cell_type": "markdown",
   "metadata": {},
   "source": [
    "# Creación del Dataframe"
   ]
  },
  {
   "cell_type": "code",
   "execution_count": 207,
   "metadata": {},
   "outputs": [],
   "source": [
    "etiquetas=[]\n",
    "usuarios_men=[]\n",
    "id_user=[]\n",
    "user_name=[]\n",
    "followers=[]\n",
    "img=[]\n",
    "language=[]\n",
    "Text=[]\n",
    "likes=[]\n",
    "retweet=[]\n",
    "id_tw=[]\n",
    "fecha=[]\n",
    "\n",
    "for i in range(len(tweets)):\n",
    "    \n",
    "    try:\n",
    "        \n",
    "        id_tw.append(tweets[i]['id'])\n",
    "    \n",
    "    except:\n",
    "        \n",
    "        id_tw.append('None')\n",
    "    \n",
    "    try:\n",
    "        \n",
    "        fecha.append(tweets[i]['created_at'])\n",
    "    \n",
    "    except:\n",
    "        \n",
    "        fecha.append('None')\n",
    "    \n",
    "    \n",
    "\n",
    "\n",
    "    try:\n",
    "        \n",
    "        followers.append(tweets[i]['user']['followers_count'])\n",
    "    \n",
    "    except:\n",
    "        \n",
    "        followers.append('None')\n",
    "    \n",
    "    try:\n",
    "        \n",
    "        id_user.append(tweets[i]['user']['id'])\n",
    "    \n",
    "    except:\n",
    "        \n",
    "        id_user.append('Cupo Limite')\n",
    "    \n",
    "      \n",
    "    try:\n",
    "        user_name.append(tweets[i]['user']['screen_name'])\n",
    "   \n",
    "    except:\n",
    "        \n",
    "        user_name.append('Cupo Limite')\n",
    "        \n",
    "    try:\n",
    "        \n",
    "        img.append(tweets[i]['user']['profile_image_url_https'])\n",
    "    \n",
    "    except:\n",
    "    \n",
    "        img.append('Cupo Limite')\n",
    "       \n",
    "    \n",
    "    try:\n",
    "        \n",
    "         language.append(tweets[i]['lang'])\n",
    "\n",
    "    except:\n",
    "        \n",
    "          language.append('Cupo Limite')\n",
    "\n",
    "    \n",
    "    try:\n",
    "        \n",
    "        likes.append(tweets[i]['retweeted_status']['favorite_count'])\n",
    "        \n",
    "    except:\n",
    "        \n",
    "        likes.append('None')\n",
    "        \n",
    "        \n",
    "    try:\n",
    "        \n",
    "        retweet.append(tweets[i]['retweeted_status']['retweet_count'] )\n",
    "        \n",
    "    except:\n",
    "                     \n",
    "        retweet.append('None')\n",
    "    \n",
    "    try:\n",
    "                     \n",
    "        Text.append(tweets[i]['text'])\n",
    "    except:\n",
    "                     \n",
    "        Text.append('Cupo Limite')\n",
    "    \n",
    "    try:\n",
    "                     \n",
    "        etiquetas.append(tweets[i]['retweeted_status']['extended_tweet']['entities']['hashtags'])\n",
    "    \n",
    "    except:\n",
    "      \n",
    "        etiquetas.append('No registra')\n",
    "        #pass\n",
    "    try:\n",
    "                     \n",
    "        usuarios_men.append(tweets[i]['retweeted_status']['extended_tweet']['entities']['user_mentions'])\n",
    "    \n",
    "    except:\n",
    "                     \n",
    "        usuarios_men.append('No registra')\n",
    "        \n",
    "    \n",
    "    "
   ]
  },
  {
   "cell_type": "code",
   "execution_count": 91,
   "metadata": {},
   "outputs": [],
   "source": [
    "# Revisar hastag y usuarios mencionados "
   ]
  },
  {
   "cell_type": "code",
   "execution_count": 208,
   "metadata": {},
   "outputs": [],
   "source": [
    "data ={\n",
    "    \n",
    "    'ID_user':id_user,\n",
    "    'User name':user_name,\n",
    "    'ID_Tweet':id_tw,\n",
    "    'Texto':Text,\n",
    "    'Fecha':fecha,\n",
    "    'Likes':likes,\n",
    "    'Retweet':retweet,\n",
    "    'Followers':followers,\n",
    "    'Profile image':img,\n",
    "    'Hastag':etiquetas,\n",
    "    'User mention':usuarios_men,\n",
    "    'Language':language\n",
    "    }"
   ]
  },
  {
   "cell_type": "code",
   "execution_count": 209,
   "metadata": {},
   "outputs": [
    {
     "data": {
      "text/plain": [
       "15030"
      ]
     },
     "execution_count": 209,
     "metadata": {},
     "output_type": "execute_result"
    }
   ],
   "source": [
    "len(data['Hastag'])"
   ]
  },
  {
   "cell_type": "code",
   "execution_count": 210,
   "metadata": {},
   "outputs": [
    {
     "data": {
      "text/plain": [
       "15030"
      ]
     },
     "execution_count": 210,
     "metadata": {},
     "output_type": "execute_result"
    }
   ],
   "source": [
    "len(data['Hastag'])"
   ]
  },
  {
   "cell_type": "code",
   "execution_count": 211,
   "metadata": {},
   "outputs": [],
   "source": [
    "#ids=tweets.apply(lambda x : x['id'])"
   ]
  },
  {
   "cell_type": "code",
   "execution_count": 212,
   "metadata": {},
   "outputs": [],
   "source": [
    "data_final=pd.DataFrame(data)"
   ]
  },
  {
   "cell_type": "code",
   "execution_count": 213,
   "metadata": {},
   "outputs": [],
   "source": [
    "#data_final.to_csv('Dataset_coronavirus.csv')"
   ]
  },
  {
   "cell_type": "markdown",
   "metadata": {},
   "source": [
    "# Relacion de idiomas de tweets"
   ]
  },
  {
   "cell_type": "code",
   "execution_count": 214,
   "metadata": {},
   "outputs": [
    {
     "data": {
      "text/plain": [
       "en     9371\n",
       "es     2637\n",
       "fr     1185\n",
       "und     472\n",
       "it      276\n",
       "Name: Language, dtype: int64"
      ]
     },
     "execution_count": 214,
     "metadata": {},
     "output_type": "execute_result"
    }
   ],
   "source": [
    "data_final['Language'].value_counts().head()"
   ]
  },
  {
   "cell_type": "code",
   "execution_count": 215,
   "metadata": {},
   "outputs": [
    {
     "data": {
      "text/html": [
       "<div>\n",
       "<style scoped>\n",
       "    .dataframe tbody tr th:only-of-type {\n",
       "        vertical-align: middle;\n",
       "    }\n",
       "\n",
       "    .dataframe tbody tr th {\n",
       "        vertical-align: top;\n",
       "    }\n",
       "\n",
       "    .dataframe thead th {\n",
       "        text-align: right;\n",
       "    }\n",
       "</style>\n",
       "<table border=\"1\" class=\"dataframe\">\n",
       "  <thead>\n",
       "    <tr style=\"text-align: right;\">\n",
       "      <th></th>\n",
       "      <th>ID_user</th>\n",
       "      <th>User name</th>\n",
       "      <th>ID_Tweet</th>\n",
       "      <th>Texto</th>\n",
       "      <th>Fecha</th>\n",
       "      <th>Likes</th>\n",
       "      <th>Retweet</th>\n",
       "      <th>Followers</th>\n",
       "      <th>Profile image</th>\n",
       "      <th>Hastag</th>\n",
       "      <th>User mention</th>\n",
       "      <th>Language</th>\n",
       "    </tr>\n",
       "  </thead>\n",
       "  <tbody>\n",
       "  </tbody>\n",
       "</table>\n",
       "</div>"
      ],
      "text/plain": [
       "Empty DataFrame\n",
       "Columns: [ID_user, User name, ID_Tweet, Texto, Fecha, Likes, Retweet, Followers, Profile image, Hastag, User mention, Language]\n",
       "Index: []"
      ]
     },
     "execution_count": 215,
     "metadata": {},
     "output_type": "execute_result"
    }
   ],
   "source": [
    "data_final[data_final['User mention']=='[ ]']"
   ]
  },
  {
   "cell_type": "code",
   "execution_count": 216,
   "metadata": {},
   "outputs": [],
   "source": [
    "df_men=data_final[data_final['User mention']!='No registra']"
   ]
  },
  {
   "cell_type": "code",
   "execution_count": 217,
   "metadata": {},
   "outputs": [
    {
     "data": {
      "text/plain": [
       "True"
      ]
     },
     "execution_count": 217,
     "metadata": {},
     "output_type": "execute_result"
    }
   ],
   "source": [
    "len(df_men['User mention'][1])==0"
   ]
  },
  {
   "cell_type": "code",
   "execution_count": 218,
   "metadata": {},
   "outputs": [
    {
     "name": "stderr",
     "output_type": "stream",
     "text": [
      "/home/alexbonella2806/anaconda3/lib/python3.7/site-packages/ipykernel_launcher.py:1: SettingWithCopyWarning: \n",
      "A value is trying to be set on a copy of a slice from a DataFrame.\n",
      "Try using .loc[row_indexer,col_indexer] = value instead\n",
      "\n",
      "See the caveats in the documentation: http://pandas.pydata.org/pandas-docs/stable/indexing.html#indexing-view-versus-copy\n",
      "  \"\"\"Entry point for launching an IPython kernel.\n"
     ]
    }
   ],
   "source": [
    "df_men['longitud']=df_men['User mention'].apply(lambda x : len(x))"
   ]
  },
  {
   "cell_type": "code",
   "execution_count": 219,
   "metadata": {},
   "outputs": [],
   "source": [
    "df_men=df_men[df_men['longitud']!=0]"
   ]
  },
  {
   "cell_type": "code",
   "execution_count": 220,
   "metadata": {},
   "outputs": [],
   "source": [
    "df_men=df_men.reset_index(inplace=False)\n",
    "df_men=df_men.drop(columns='index')"
   ]
  },
  {
   "cell_type": "code",
   "execution_count": 221,
   "metadata": {},
   "outputs": [
    {
     "data": {
      "text/plain": [
       "[{'screen_name': 'RPerezGay',\n",
       "  'name': 'Rafael Pérez Gay',\n",
       "  'id': 338679358,\n",
       "  'id_str': '338679358',\n",
       "  'indices': [46, 56]},\n",
       " {'screen_name': '1luismartin',\n",
       "  'name': 'luis martin quiñones',\n",
       "  'id': 307709007,\n",
       "  'id_str': '307709007',\n",
       "  'indices': [79, 91]}]"
      ]
     },
     "execution_count": 221,
     "metadata": {},
     "output_type": "execute_result"
    }
   ],
   "source": [
    "df_men['User mention'][2]"
   ]
  },
  {
   "cell_type": "code",
   "execution_count": 222,
   "metadata": {},
   "outputs": [],
   "source": [
    "Nombres=[]\n",
    "\n",
    "for i in range(len(df_men)):\n",
    "    \n",
    "    #print(i)\n",
    "    \n",
    "    if (df_men['longitud'][i]=='1'):\n",
    "        \n",
    "        Nombres.append(df_men['User mention'][i]['screen_name'])\n",
    "    \n",
    "    else:\n",
    "        \n",
    "        for j in range(len(df_men['User mention'][i])):\n",
    "            \n",
    "            Nombres.append(df_men['User mention'][i][j]['screen_name'])\n",
    "        "
   ]
  },
  {
   "cell_type": "code",
   "execution_count": 223,
   "metadata": {},
   "outputs": [],
   "source": [
    "a=pd.Series(Nombres)"
   ]
  },
  {
   "cell_type": "markdown",
   "metadata": {},
   "source": [
    "# Top 20 de usuarios mencionados en los tweets"
   ]
  },
  {
   "cell_type": "code",
   "execution_count": 224,
   "metadata": {},
   "outputs": [
    {
     "data": {
      "text/plain": [
       "WHO               75\n",
       "DrTomFrieden      46\n",
       "DrTedros          37\n",
       "SaraCarterDC      27\n",
       "sanidadgob        22\n",
       "petrogustavo      20\n",
       "CorteSupremaJ     20\n",
       "HelenBranswell    19\n",
       "DeZurdaTeam       19\n",
       "DiazCanelB        18\n",
       "agnesbuzyn        16\n",
       "JoanTarda         16\n",
       "StateDept         16\n",
       "vivekagnihotri    16\n",
       "AltNews           15\n",
       "layzhang          15\n",
       "AlvaradoC_MPPS    14\n",
       "AmbCuiTiankai     13\n",
       "AmbLiuXiaoMing    12\n",
       "BloombergAsia     12\n",
       "dtype: int64"
      ]
     },
     "execution_count": 224,
     "metadata": {},
     "output_type": "execute_result"
    }
   ],
   "source": [
    "a.value_counts().head(20)"
   ]
  },
  {
   "cell_type": "code",
   "execution_count": null,
   "metadata": {},
   "outputs": [],
   "source": []
  },
  {
   "cell_type": "code",
   "execution_count": 225,
   "metadata": {},
   "outputs": [],
   "source": [
    "esp=data_final[data_final['Language']=='es']\n",
    "ingles=data_final[data_final['Language']=='en']"
   ]
  },
  {
   "cell_type": "code",
   "execution_count": 226,
   "metadata": {},
   "outputs": [],
   "source": [
    "#ingles.sort_values(by='Retweet',ascending=False)"
   ]
  },
  {
   "cell_type": "markdown",
   "metadata": {},
   "source": [
    "# Top 5 mas Retweets"
   ]
  },
  {
   "cell_type": "code",
   "execution_count": 227,
   "metadata": {},
   "outputs": [
    {
     "data": {
      "text/html": [
       "<div>\n",
       "<style scoped>\n",
       "    .dataframe tbody tr th:only-of-type {\n",
       "        vertical-align: middle;\n",
       "    }\n",
       "\n",
       "    .dataframe tbody tr th {\n",
       "        vertical-align: top;\n",
       "    }\n",
       "\n",
       "    .dataframe thead th {\n",
       "        text-align: right;\n",
       "    }\n",
       "</style>\n",
       "<table border=\"1\" class=\"dataframe\">\n",
       "  <thead>\n",
       "    <tr style=\"text-align: right;\">\n",
       "      <th></th>\n",
       "      <th>ID_user</th>\n",
       "      <th>User name</th>\n",
       "      <th>ID_Tweet</th>\n",
       "      <th>Texto</th>\n",
       "      <th>Fecha</th>\n",
       "      <th>Likes</th>\n",
       "      <th>Retweet</th>\n",
       "      <th>Followers</th>\n",
       "      <th>Profile image</th>\n",
       "      <th>Hastag</th>\n",
       "      <th>User mention</th>\n",
       "      <th>Language</th>\n",
       "    </tr>\n",
       "  </thead>\n",
       "  <tbody>\n",
       "    <tr>\n",
       "      <th>14503</th>\n",
       "      <td>1168498257837707264</td>\n",
       "      <td>LegendArmour</td>\n",
       "      <td>1226234213847879680</td>\n",
       "      <td>RT @menumpahkan: How to wear a mask\\n#coronavi...</td>\n",
       "      <td>Sat Feb 08 19:59:53 +0000 2020</td>\n",
       "      <td>105659</td>\n",
       "      <td>82951</td>\n",
       "      <td>141</td>\n",
       "      <td>https://pbs.twimg.com/profile_images/116849861...</td>\n",
       "      <td>No registra</td>\n",
       "      <td>No registra</td>\n",
       "      <td>en</td>\n",
       "    </tr>\n",
       "    <tr>\n",
       "      <th>15028</th>\n",
       "      <td>2600569249</td>\n",
       "      <td>cuz_y_not2</td>\n",
       "      <td>1226234378336055297</td>\n",
       "      <td>RT @OlaTinee: Coronavirus: Africa are you read...</td>\n",
       "      <td>Sat Feb 08 20:00:32 +0000 2020</td>\n",
       "      <td>326645</td>\n",
       "      <td>80378</td>\n",
       "      <td>52</td>\n",
       "      <td>https://pbs.twimg.com/profile_images/122254213...</td>\n",
       "      <td>[]</td>\n",
       "      <td>[]</td>\n",
       "      <td>en</td>\n",
       "    </tr>\n",
       "    <tr>\n",
       "      <th>15011</th>\n",
       "      <td>1018718567758467072</td>\n",
       "      <td>StarbustingO</td>\n",
       "      <td>1226234373852336136</td>\n",
       "      <td>RT @OlaTinee: Coronavirus: Africa are you read...</td>\n",
       "      <td>Sat Feb 08 20:00:31 +0000 2020</td>\n",
       "      <td>326643</td>\n",
       "      <td>80377</td>\n",
       "      <td>112</td>\n",
       "      <td>https://pbs.twimg.com/profile_images/113306155...</td>\n",
       "      <td>[]</td>\n",
       "      <td>[]</td>\n",
       "      <td>en</td>\n",
       "    </tr>\n",
       "    <tr>\n",
       "      <th>15005</th>\n",
       "      <td>20571984</td>\n",
       "      <td>_stilldreaming_</td>\n",
       "      <td>1226234371683835905</td>\n",
       "      <td>RT @OlaTinee: Coronavirus: Africa are you read...</td>\n",
       "      <td>Sat Feb 08 20:00:31 +0000 2020</td>\n",
       "      <td>326641</td>\n",
       "      <td>80376</td>\n",
       "      <td>74</td>\n",
       "      <td>https://pbs.twimg.com/profile_images/104084792...</td>\n",
       "      <td>[]</td>\n",
       "      <td>[]</td>\n",
       "      <td>en</td>\n",
       "    </tr>\n",
       "    <tr>\n",
       "      <th>15003</th>\n",
       "      <td>536574384</td>\n",
       "      <td>ZoeLabarthe</td>\n",
       "      <td>1226234370542985217</td>\n",
       "      <td>RT @OlaTinee: Coronavirus: Africa are you read...</td>\n",
       "      <td>Sat Feb 08 20:00:30 +0000 2020</td>\n",
       "      <td>326640</td>\n",
       "      <td>80375</td>\n",
       "      <td>394</td>\n",
       "      <td>https://pbs.twimg.com/profile_images/121882452...</td>\n",
       "      <td>[]</td>\n",
       "      <td>[]</td>\n",
       "      <td>en</td>\n",
       "    </tr>\n",
       "  </tbody>\n",
       "</table>\n",
       "</div>"
      ],
      "text/plain": [
       "                   ID_user        User name             ID_Tweet  \\\n",
       "14503  1168498257837707264     LegendArmour  1226234213847879680   \n",
       "15028           2600569249       cuz_y_not2  1226234378336055297   \n",
       "15011  1018718567758467072     StarbustingO  1226234373852336136   \n",
       "15005             20571984  _stilldreaming_  1226234371683835905   \n",
       "15003            536574384      ZoeLabarthe  1226234370542985217   \n",
       "\n",
       "                                                   Texto  \\\n",
       "14503  RT @menumpahkan: How to wear a mask\\n#coronavi...   \n",
       "15028  RT @OlaTinee: Coronavirus: Africa are you read...   \n",
       "15011  RT @OlaTinee: Coronavirus: Africa are you read...   \n",
       "15005  RT @OlaTinee: Coronavirus: Africa are you read...   \n",
       "15003  RT @OlaTinee: Coronavirus: Africa are you read...   \n",
       "\n",
       "                                Fecha   Likes Retweet Followers  \\\n",
       "14503  Sat Feb 08 19:59:53 +0000 2020  105659   82951       141   \n",
       "15028  Sat Feb 08 20:00:32 +0000 2020  326645   80378        52   \n",
       "15011  Sat Feb 08 20:00:31 +0000 2020  326643   80377       112   \n",
       "15005  Sat Feb 08 20:00:31 +0000 2020  326641   80376        74   \n",
       "15003  Sat Feb 08 20:00:30 +0000 2020  326640   80375       394   \n",
       "\n",
       "                                           Profile image       Hastag  \\\n",
       "14503  https://pbs.twimg.com/profile_images/116849861...  No registra   \n",
       "15028  https://pbs.twimg.com/profile_images/122254213...           []   \n",
       "15011  https://pbs.twimg.com/profile_images/113306155...           []   \n",
       "15005  https://pbs.twimg.com/profile_images/104084792...           []   \n",
       "15003  https://pbs.twimg.com/profile_images/121882452...           []   \n",
       "\n",
       "      User mention Language  \n",
       "14503  No registra       en  \n",
       "15028           []       en  \n",
       "15011           []       en  \n",
       "15005           []       en  \n",
       "15003           []       en  "
      ]
     },
     "execution_count": 227,
     "metadata": {},
     "output_type": "execute_result"
    }
   ],
   "source": [
    "ingles[ingles['Retweet']!='None'].sort_values(by='Retweet',ascending=False).head()"
   ]
  },
  {
   "cell_type": "markdown",
   "metadata": {},
   "source": [
    "# Top 5 tweets con mas Likes"
   ]
  },
  {
   "cell_type": "code",
   "execution_count": 228,
   "metadata": {},
   "outputs": [
    {
     "data": {
      "text/html": [
       "<div>\n",
       "<style scoped>\n",
       "    .dataframe tbody tr th:only-of-type {\n",
       "        vertical-align: middle;\n",
       "    }\n",
       "\n",
       "    .dataframe tbody tr th {\n",
       "        vertical-align: top;\n",
       "    }\n",
       "\n",
       "    .dataframe thead th {\n",
       "        text-align: right;\n",
       "    }\n",
       "</style>\n",
       "<table border=\"1\" class=\"dataframe\">\n",
       "  <thead>\n",
       "    <tr style=\"text-align: right;\">\n",
       "      <th></th>\n",
       "      <th>ID_user</th>\n",
       "      <th>User name</th>\n",
       "      <th>ID_Tweet</th>\n",
       "      <th>Texto</th>\n",
       "      <th>Fecha</th>\n",
       "      <th>Likes</th>\n",
       "      <th>Retweet</th>\n",
       "      <th>Followers</th>\n",
       "      <th>Profile image</th>\n",
       "      <th>Hastag</th>\n",
       "      <th>User mention</th>\n",
       "      <th>Language</th>\n",
       "    </tr>\n",
       "  </thead>\n",
       "  <tbody>\n",
       "    <tr>\n",
       "      <th>15028</th>\n",
       "      <td>2600569249</td>\n",
       "      <td>cuz_y_not2</td>\n",
       "      <td>1226234378336055297</td>\n",
       "      <td>RT @OlaTinee: Coronavirus: Africa are you read...</td>\n",
       "      <td>Sat Feb 08 20:00:32 +0000 2020</td>\n",
       "      <td>326645</td>\n",
       "      <td>80378</td>\n",
       "      <td>52</td>\n",
       "      <td>https://pbs.twimg.com/profile_images/122254213...</td>\n",
       "      <td>[]</td>\n",
       "      <td>[]</td>\n",
       "      <td>en</td>\n",
       "    </tr>\n",
       "    <tr>\n",
       "      <th>15011</th>\n",
       "      <td>1018718567758467072</td>\n",
       "      <td>StarbustingO</td>\n",
       "      <td>1226234373852336136</td>\n",
       "      <td>RT @OlaTinee: Coronavirus: Africa are you read...</td>\n",
       "      <td>Sat Feb 08 20:00:31 +0000 2020</td>\n",
       "      <td>326643</td>\n",
       "      <td>80377</td>\n",
       "      <td>112</td>\n",
       "      <td>https://pbs.twimg.com/profile_images/113306155...</td>\n",
       "      <td>[]</td>\n",
       "      <td>[]</td>\n",
       "      <td>en</td>\n",
       "    </tr>\n",
       "    <tr>\n",
       "      <th>15005</th>\n",
       "      <td>20571984</td>\n",
       "      <td>_stilldreaming_</td>\n",
       "      <td>1226234371683835905</td>\n",
       "      <td>RT @OlaTinee: Coronavirus: Africa are you read...</td>\n",
       "      <td>Sat Feb 08 20:00:31 +0000 2020</td>\n",
       "      <td>326641</td>\n",
       "      <td>80376</td>\n",
       "      <td>74</td>\n",
       "      <td>https://pbs.twimg.com/profile_images/104084792...</td>\n",
       "      <td>[]</td>\n",
       "      <td>[]</td>\n",
       "      <td>en</td>\n",
       "    </tr>\n",
       "    <tr>\n",
       "      <th>15003</th>\n",
       "      <td>536574384</td>\n",
       "      <td>ZoeLabarthe</td>\n",
       "      <td>1226234370542985217</td>\n",
       "      <td>RT @OlaTinee: Coronavirus: Africa are you read...</td>\n",
       "      <td>Sat Feb 08 20:00:30 +0000 2020</td>\n",
       "      <td>326640</td>\n",
       "      <td>80375</td>\n",
       "      <td>394</td>\n",
       "      <td>https://pbs.twimg.com/profile_images/121882452...</td>\n",
       "      <td>[]</td>\n",
       "      <td>[]</td>\n",
       "      <td>en</td>\n",
       "    </tr>\n",
       "    <tr>\n",
       "      <th>14984</th>\n",
       "      <td>2641704103</td>\n",
       "      <td>biigbryy</td>\n",
       "      <td>1226234362972295168</td>\n",
       "      <td>RT @OlaTinee: Coronavirus: Africa are you read...</td>\n",
       "      <td>Sat Feb 08 20:00:29 +0000 2020</td>\n",
       "      <td>326628</td>\n",
       "      <td>80374</td>\n",
       "      <td>236</td>\n",
       "      <td>https://pbs.twimg.com/profile_images/121588770...</td>\n",
       "      <td>[]</td>\n",
       "      <td>[]</td>\n",
       "      <td>en</td>\n",
       "    </tr>\n",
       "  </tbody>\n",
       "</table>\n",
       "</div>"
      ],
      "text/plain": [
       "                   ID_user        User name             ID_Tweet  \\\n",
       "15028           2600569249       cuz_y_not2  1226234378336055297   \n",
       "15011  1018718567758467072     StarbustingO  1226234373852336136   \n",
       "15005             20571984  _stilldreaming_  1226234371683835905   \n",
       "15003            536574384      ZoeLabarthe  1226234370542985217   \n",
       "14984           2641704103         biigbryy  1226234362972295168   \n",
       "\n",
       "                                                   Texto  \\\n",
       "15028  RT @OlaTinee: Coronavirus: Africa are you read...   \n",
       "15011  RT @OlaTinee: Coronavirus: Africa are you read...   \n",
       "15005  RT @OlaTinee: Coronavirus: Africa are you read...   \n",
       "15003  RT @OlaTinee: Coronavirus: Africa are you read...   \n",
       "14984  RT @OlaTinee: Coronavirus: Africa are you read...   \n",
       "\n",
       "                                Fecha   Likes Retweet Followers  \\\n",
       "15028  Sat Feb 08 20:00:32 +0000 2020  326645   80378        52   \n",
       "15011  Sat Feb 08 20:00:31 +0000 2020  326643   80377       112   \n",
       "15005  Sat Feb 08 20:00:31 +0000 2020  326641   80376        74   \n",
       "15003  Sat Feb 08 20:00:30 +0000 2020  326640   80375       394   \n",
       "14984  Sat Feb 08 20:00:29 +0000 2020  326628   80374       236   \n",
       "\n",
       "                                           Profile image Hastag User mention  \\\n",
       "15028  https://pbs.twimg.com/profile_images/122254213...     []           []   \n",
       "15011  https://pbs.twimg.com/profile_images/113306155...     []           []   \n",
       "15005  https://pbs.twimg.com/profile_images/104084792...     []           []   \n",
       "15003  https://pbs.twimg.com/profile_images/121882452...     []           []   \n",
       "14984  https://pbs.twimg.com/profile_images/121588770...     []           []   \n",
       "\n",
       "      Language  \n",
       "15028       en  \n",
       "15011       en  \n",
       "15005       en  \n",
       "15003       en  \n",
       "14984       en  "
      ]
     },
     "execution_count": 228,
     "metadata": {},
     "output_type": "execute_result"
    }
   ],
   "source": [
    "ingles[ingles['Retweet']!='None'].sort_values(by='Likes',ascending=False).head()"
   ]
  },
  {
   "cell_type": "code",
   "execution_count": null,
   "metadata": {},
   "outputs": [],
   "source": []
  },
  {
   "cell_type": "code",
   "execution_count": null,
   "metadata": {},
   "outputs": [],
   "source": []
  },
  {
   "cell_type": "code",
   "execution_count": null,
   "metadata": {},
   "outputs": [],
   "source": []
  },
  {
   "cell_type": "code",
   "execution_count": null,
   "metadata": {},
   "outputs": [],
   "source": []
  },
  {
   "cell_type": "code",
   "execution_count": null,
   "metadata": {},
   "outputs": [],
   "source": []
  },
  {
   "cell_type": "code",
   "execution_count": null,
   "metadata": {},
   "outputs": [],
   "source": []
  },
  {
   "cell_type": "code",
   "execution_count": null,
   "metadata": {},
   "outputs": [],
   "source": []
  },
  {
   "cell_type": "code",
   "execution_count": null,
   "metadata": {},
   "outputs": [],
   "source": []
  },
  {
   "cell_type": "code",
   "execution_count": null,
   "metadata": {},
   "outputs": [],
   "source": []
  },
  {
   "cell_type": "code",
   "execution_count": null,
   "metadata": {},
   "outputs": [],
   "source": []
  },
  {
   "cell_type": "code",
   "execution_count": null,
   "metadata": {},
   "outputs": [],
   "source": []
  },
  {
   "cell_type": "code",
   "execution_count": null,
   "metadata": {},
   "outputs": [],
   "source": []
  },
  {
   "cell_type": "code",
   "execution_count": null,
   "metadata": {},
   "outputs": [],
   "source": []
  },
  {
   "cell_type": "code",
   "execution_count": null,
   "metadata": {},
   "outputs": [],
   "source": []
  },
  {
   "cell_type": "code",
   "execution_count": null,
   "metadata": {},
   "outputs": [],
   "source": []
  },
  {
   "cell_type": "code",
   "execution_count": null,
   "metadata": {},
   "outputs": [],
   "source": []
  },
  {
   "cell_type": "code",
   "execution_count": null,
   "metadata": {},
   "outputs": [],
   "source": []
  },
  {
   "cell_type": "code",
   "execution_count": null,
   "metadata": {},
   "outputs": [],
   "source": []
  },
  {
   "cell_type": "code",
   "execution_count": null,
   "metadata": {},
   "outputs": [],
   "source": []
  },
  {
   "cell_type": "code",
   "execution_count": null,
   "metadata": {},
   "outputs": [],
   "source": []
  },
  {
   "cell_type": "code",
   "execution_count": null,
   "metadata": {},
   "outputs": [],
   "source": []
  },
  {
   "cell_type": "code",
   "execution_count": null,
   "metadata": {},
   "outputs": [],
   "source": []
  },
  {
   "cell_type": "code",
   "execution_count": null,
   "metadata": {},
   "outputs": [],
   "source": []
  }
 ],
 "metadata": {
  "kernelspec": {
   "display_name": "Python 3",
   "language": "python",
   "name": "python3"
  },
  "language_info": {
   "codemirror_mode": {
    "name": "ipython",
    "version": 3
   },
   "file_extension": ".py",
   "mimetype": "text/x-python",
   "name": "python",
   "nbconvert_exporter": "python",
   "pygments_lexer": "ipython3",
   "version": "3.7.1"
  }
 },
 "nbformat": 4,
 "nbformat_minor": 2
}
